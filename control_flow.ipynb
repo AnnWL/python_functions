{
 "cells": [
  {
   "cell_type": "code",
   "execution_count": 1,
   "id": "047f964c",
   "metadata": {},
   "outputs": [
    {
     "name": "stdout",
     "output_type": "stream",
     "text": [
      "Python is fun!\n"
     ]
    }
   ],
   "source": [
    "# Exercise 0: Example\n",
    "#\n",
    "# This is a practice exercise to help you understand how to write code \"inside\" a provided Python function.\n",
    "#\n",
    "# We'll create a function that checks a condition and prints a specific greeting message based on that condition.\n",
    "#\n",
    "# Requirements:\n",
    "# - The function is named `print_greeting`.\n",
    "# - Inside the function, declare a variable `python_is_fun` and set it to `True`.\n",
    "# - Use a conditional statement to check if `python_is_fun` is `True`.\n",
    "# - If `python_is_fun` is `True`, print the message \"Python is fun!\"\n",
    "\n",
    "def print_greeting():\n",
    "    python_is_fun = True\n",
    "    if python_is_fun:\n",
    "        print(\"Python is fun!\")\n",
    "\n",
    "# Call the function\n",
    "print_greeting()\n"
   ]
  },
  {
   "cell_type": "code",
   "execution_count": 2,
   "id": "78063d7a",
   "metadata": {},
   "outputs": [
    {
     "name": "stdout",
     "output_type": "stream",
     "text": [
      "enter a letter (a-z): j\n",
      "The letter j is a consonant.\n"
     ]
    }
   ],
   "source": [
    "# Exercise 1: Vowel or Consonant\n",
    "#\n",
    "# Write a Python function named `check_letter` that determines if a given letter\n",
    "# is a vowel or a consonant.\n",
    "#\n",
    "# Requirements:\n",
    "# - The function should prompt the user to enter a letter (a-z or A-Z) and determine its type.\n",
    "# - It should handle both uppercase and lowercase letters.\n",
    "# - If the letter is a vowel (a, e, i, o, u), print: \"The letter x is a vowel.\"\n",
    "# - If the letter is a consonant, print: \"The letter x is a consonant.\"\n",
    "# - Replace 'x' with the actual letter entered by the user.\n",
    "#\n",
    "# Hints:\n",
    "# - Use the `input()` function to capture user input.\n",
    "# - Utilize the `in` operator to check for vowels.\n",
    "# - Ensure to provide feedback for non-alphabetical or invalid entries.\n",
    "\n",
    "def check_letter():\n",
    "    letter = input(\"enter a letter (a-z): \")\n",
    "    \n",
    "    if not letter.isalpha() or len(letter) != 1:\n",
    "        print(\"Invalid input. Please enter exactly one alphabetical letter (a-z).\")\n",
    "        return\n",
    "    \n",
    "    vowels = ['a', 'e', 'i', 'o', 'u']\n",
    "    if letter.lower() in vowels: \n",
    "        print(\"The letter {} is a vowel.\".format(letter))\n",
    "    else: \n",
    "        print(\"The letter {} is a consonant.\".format(letter))\n",
    "        \n",
    "\n",
    "# Call the function\n",
    "check_letter()\n"
   ]
  },
  {
   "cell_type": "code",
   "execution_count": 3,
   "id": "5f14240a",
   "metadata": {},
   "outputs": [
    {
     "name": "stdout",
     "output_type": "stream",
     "text": [
      "Please enter your age: 78\n",
      "You are eligible to vote.\n"
     ]
    }
   ],
   "source": [
    "# Exercise 2: Old enough to vote?\n",
    "#\n",
    "# Write a Python function named `check_voting_eligibility` that determines if a user is old enough to vote.\n",
    "# Fill in the logic to perform the eligibility check inside the function.\n",
    "#\n",
    "# Function Details:\n",
    "# - Prompt the user to input their age: \"Please enter your age: \"\n",
    "# - Validate the input to ensure the age is a possible value (no negative numbers).\n",
    "# - Determine if the user is eligible to vote. Set a variable for the voting age.\n",
    "# - Print a message indicating whether the user is eligible to vote based on the entered age.\n",
    "#\n",
    "# Hints:\n",
    "# - Use the `input()` function to capture the user's age.\n",
    "# - Use `int()` to convert the input to an integer. Ensure to handle any conversion errors gracefully.\n",
    "# - Use a conditional statement to check if the age meets the minimum voting age requirement.\n",
    "\n",
    "def check_voting_eligibility():\n",
    "    age = input(\"Please enter your age: \")\n",
    "    \n",
    "    if int(age)<0: \n",
    "        print(\"Please enter a valid age.\")\n",
    "        \n",
    "    if int(age)>21:\n",
    "        print(\"You are eligible to vote.\")\n",
    "    else: \n",
    "        print(\"You are NOT eligible to vote.\")\n",
    "        \n",
    "\n",
    "# Call the function\n",
    "check_voting_eligibility()\n"
   ]
  },
  {
   "cell_type": "code",
   "execution_count": 4,
   "id": "2a5bb072",
   "metadata": {},
   "outputs": [
    {
     "name": "stdout",
     "output_type": "stream",
     "text": [
      "Input a dog's age: 6\n",
      "dog's age in dog years is 48.\n"
     ]
    }
   ],
   "source": [
    "# Exercise 3: Calculate Dog Years\n",
    "#\n",
    "# Write a Python function named `calculate_dog_years` that calculates a dog's age in dog years.\n",
    "# Fill in the logic to perform the calculation inside the function.\n",
    "#\n",
    "# Function Details:\n",
    "# - Prompt the user to enter a dog's age: \"Input a dog's age: \"\n",
    "# - Calculate the dog's age in dog years:\n",
    "#      - The first two years of the dog's life count as 10 dog years each.\n",
    "#      - Each subsequent year counts as 7 dog years.\n",
    "# - Print the calculated age: \"The dog's age in dog years is xx.\"\n",
    "# - Replace 'xx' with the calculated dog years.\n",
    "#\n",
    "# Hints:\n",
    "# - Use the `input()` function to capture user input.\n",
    "# - Convert the string input to an integer using `int()`.\n",
    "# - Apply conditional logic to perform the correct age calculation based on the dog's age.\n",
    "\n",
    "def calculate_dog_years():\n",
    "    age = input(\"Input a dog's age: \")\n",
    "    if int(age)==1: \n",
    "        dog_age=10\n",
    "    elif int(age)==2: \n",
    "        dog_age=20\n",
    "    elif int(age) > 2:\n",
    "        dog_age = 20 + (int(age)-2)*7\n",
    "        \n",
    "    print(\"dog's age in dog years is {}.\".format(dog_age))\n",
    "\n",
    "# Call the function\n",
    "calculate_dog_years()\n"
   ]
  },
  {
   "cell_type": "code",
   "execution_count": 5,
   "id": "b0f990d2",
   "metadata": {},
   "outputs": [
    {
     "name": "stdout",
     "output_type": "stream",
     "text": [
      "Is it cold? (yes/no) yes\n",
      "Is it raining? (yes/no) no\n",
      "Wear a warm coat.\n"
     ]
    }
   ],
   "source": [
    "# Exercise 4: Weather Advice\n",
    "#\n",
    "# Write a Python script named `weather_advice` that provides clothing advice based on weather conditions.\n",
    "#\n",
    "# Requirements:\n",
    "# - The script should prompt the user to enter if it is cold (yes/no).\n",
    "# - Then, ask if it is raining (yes/no).\n",
    "# - Use logical operators to determine clothing advice:\n",
    "#   - If it is cold AND raining, print \"Wear a waterproof coat.\"\n",
    "#   - If it is cold BUT NOT raining, print \"Wear a warm coat.\"\n",
    "#   - If it is NOT cold but raining, print \"Carry an umbrella.\"\n",
    "#   - If it is NOT cold AND NOT raining, print \"Wear light clothing.\"\n",
    "#\n",
    "# Hints:\n",
    "# - Use logical operators (`AND`, `OR`, `NOT`) in your if statements to handle multiple conditions.\n",
    "\n",
    "def weather_advice():\n",
    "    cold = input(\"Is it cold? (yes/no) \")\n",
    "    raining = input(\"Is it raining? (yes/no) \")\n",
    "    \n",
    "    if cold.lower()=='yes': \n",
    "        if raining.lower()=='yes': \n",
    "            print(\"Wear a waterproof coat.\")\n",
    "        else: \n",
    "            print(\"Wear a warm coat.\")\n",
    "    else: \n",
    "        if raining.lower()=='yes': \n",
    "            print(\"Carry an umbrella.\")\n",
    "        else: \n",
    "            print(\"Wear light clothing.\")\n",
    "            \n",
    "# Call the function\n",
    "weather_advice()\n"
   ]
  },
  {
   "cell_type": "code",
   "execution_count": 6,
   "id": "d6cf4b66",
   "metadata": {},
   "outputs": [
    {
     "name": "stdout",
     "output_type": "stream",
     "text": [
      "Enter the month of the year (Jan - Dec):jan\n",
      "Enter the day of the month:22\n",
      "Jan 22 is in Winter.\n"
     ]
    }
   ],
   "source": [
    "# Exercise 5: What's the Season?\n",
    "#\n",
    "# Write a Python function named `determine_season` that figures out the season based on the entered date.\n",
    "#\n",
    "# Requirements:\n",
    "# - The function should first prompt the user to enter the month (as three characters): \"Enter the month of the year (Jan - Dec):\"\n",
    "# - Then, the function should prompt the user to enter the day of the month: \"Enter the day of the month:\"\n",
    "# - Determine the current season based on the date:\n",
    "#      - Dec 21 - Mar 19: Winter\n",
    "#      - Mar 20 - Jun 20: Spring\n",
    "#      - Jun 21 - Sep 21: Summer\n",
    "#      - Sep 22 - Dec 20: Fall\n",
    "# - Print the season for the entered date in the format: \"<Mmm> <dd> is in <season>.\"\n",
    "#\n",
    "# Hints:\n",
    "# - Use 'in' to check if a string is in a list or tuple.\n",
    "# - Adjust the season based on the day of the month when needed.\n",
    "# - Ensure to validate input formats and handle unexpected inputs gracefully.\n",
    "\n",
    "def determine_season():\n",
    "    # Define the valid months\n",
    "    months = [\"Jan\", \"Feb\", \"Mar\", \"Apr\", \"May\", \"Jun\",\n",
    "              \"Jul\", \"Aug\", \"Sep\", \"Oct\", \"Nov\", \"Dec\"]\n",
    "\n",
    "    # Prompt user for the month\n",
    "    month = input(\"Enter the month of the year (Jan - Dec):\").strip().title()\n",
    "    if month not in months:\n",
    "        print(\"Invalid month. Please enter a 3-letter abbreviation like 'Jan'.\")\n",
    "        return\n",
    "\n",
    "    # Prompt user for the day\n",
    "    try:\n",
    "        day = int(input(\"Enter the day of the month:\"))\n",
    "        if day < 1 or day > 31:\n",
    "            print(\"Invalid day. Please enter a number between 1 and 31.\")\n",
    "            return\n",
    "    except ValueError:\n",
    "        print(\"Invalid input. Please enter a numeric day.\")\n",
    "        return\n",
    "\n",
    "    # Determine the season\n",
    "    if (month == \"Dec\" and day >= 21) or month in (\"Jan\", \"Feb\") or (month == \"Mar\" and day <= 19):\n",
    "        season = \"Winter\"\n",
    "    elif (month == \"Mar\" and day >= 20) or month in (\"Apr\", \"May\") or (month == \"Jun\" and day <= 20):\n",
    "        season = \"Spring\"\n",
    "    elif (month == \"Jun\" and day >= 21) or month in (\"Jul\", \"Aug\") or (month == \"Sep\" and day <= 21):\n",
    "        season = \"Summer\"\n",
    "    elif (month == \"Sep\" and day >= 22) or month in (\"Oct\", \"Nov\") or (month == \"Dec\" and day <= 20):\n",
    "        season = \"Fall\"\n",
    "    else:\n",
    "        season = \"Unknown\"\n",
    "\n",
    "    print(f\"{month} {day} is in {season}.\")\n",
    "\n",
    "# Call the function\n",
    "determine_season()\n"
   ]
  }
 ],
 "metadata": {
  "kernelspec": {
   "display_name": "Python 3 (ipykernel)",
   "language": "python",
   "name": "python3"
  },
  "language_info": {
   "codemirror_mode": {
    "name": "ipython",
    "version": 3
   },
   "file_extension": ".py",
   "mimetype": "text/x-python",
   "name": "python",
   "nbconvert_exporter": "python",
   "pygments_lexer": "ipython3",
   "version": "3.10.9"
  }
 },
 "nbformat": 4,
 "nbformat_minor": 5
}
