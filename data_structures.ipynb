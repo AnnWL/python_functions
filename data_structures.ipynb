{
 "cells": [
  {
   "cell_type": "code",
   "execution_count": 1,
   "id": "4d5f6f4a",
   "metadata": {},
   "outputs": [
    {
     "name": "stdout",
     "output_type": "stream",
     "text": [
      "element1\n",
      "element2\n",
      "element3\n"
     ]
    }
   ],
   "source": [
    "# Exercise 0: Example\n",
    "#\n",
    "# This is a practice exercise to familiarize you with basic Python data structures.\n",
    "#\n",
    "# Create a list called `example_list` and append three elements to it. Print each element using a loop.\n",
    "#\n",
    "# Requirements:\n",
    "# - The list should contain any three elements of your choice.\n",
    "# - Use a loop to print each element.\n",
    "\n",
    "def example_list_function():\n",
    "    example_list = ['element1', 'element2', 'element3']\n",
    "    for element in example_list:\n",
    "        print(element)\n",
    "\n",
    "# Call the function and print each element\n",
    "example_list_function()\n"
   ]
  },
  {
   "cell_type": "code",
   "execution_count": 2,
   "id": "a8280027",
   "metadata": {},
   "outputs": [
    {
     "name": "stdout",
     "output_type": "stream",
     "text": [
      "Exercise 1: ('Bob', 'Cam')\n"
     ]
    }
   ],
   "source": [
    "# Exercise 1: List and Indexing\n",
    "#\n",
    "# Create a list named students containing at least three student names (strings).\n",
    "# Assign the second student’s name to a variable named first_student.\n",
    "# Assign the last student’s name to a variable named last_student.\n",
    "\n",
    "def manage_students():\n",
    "    student_list = [\"Ann\", \"Bob\", \"Cam\"]\n",
    "    first_student = student_list[1]\n",
    "    last_student = student_list[-1]\n",
    "    #print(\"First Student: {}\".format(first_student))\n",
    "    #print(\"Last Student: {}\".format(last_student))\n",
    "    return first_student, last_student\n",
    "\n",
    "# Call the function and print the result\n",
    "print('Exercise 1:', manage_students())\n"
   ]
  },
  {
   "cell_type": "code",
   "execution_count": 3,
   "id": "1ccbdb02",
   "metadata": {},
   "outputs": [
    {
     "name": "stdout",
     "output_type": "stream",
     "text": [
      "Exercise 2: apple, banana, cherry\n"
     ]
    }
   ],
   "source": [
    "# Exercise 2: Loop and String Concatenation\n",
    "#\n",
    "# Create a tuple named foods containing the same number of foods (strings) as there are names in the students list.\n",
    "# Create a variable named meal and assign an empty string to it.\n",
    "# Use a for loop to iterate over the strings in foods and append each string to meal.\n",
    "\n",
    "def combine_foods():\n",
    "    foods = (\"apple\", \"banana\", \"cherry\")\n",
    "    meal = ''\n",
    "    for food in foods:\n",
    "        meal += food  \n",
    "        meal += ', '\n",
    "    return meal[:-2]\n",
    "\n",
    "# Call the function and print the result\n",
    "print('Exercise 2:', combine_foods())\n"
   ]
  },
  {
   "cell_type": "code",
   "execution_count": 4,
   "id": "8a136e7d",
   "metadata": {},
   "outputs": [
    {
     "name": "stdout",
     "output_type": "stream",
     "text": [
      "Exercise 3: ('banana', 'cherry')\n"
     ]
    }
   ],
   "source": [
    "# Exercise 3: Slicing Tuples\n",
    "#\n",
    "# Using the slice operator, assign a new tuple containing only the last two food strings in the foods to a variable named last_two_foods.\n",
    "\n",
    "def slice_foods():\n",
    "    foods = (\"apple\", \"banana\", \"cherry\")\n",
    "    last_two_foods = foods[1:]\n",
    "    return last_two_foods \n",
    "\n",
    "# Call the function and print the result\n",
    "print('Exercise 3:', slice_foods())\n"
   ]
  },
  {
   "cell_type": "code",
   "execution_count": 5,
   "id": "83a65d4c",
   "metadata": {},
   "outputs": [
    {
     "name": "stdout",
     "output_type": "stream",
     "text": [
      "Exercise 4: {'city': 'singapore', 'state': 'singapore', 'population': '6.9 million'}\n"
     ]
    }
   ],
   "source": [
    "# Exercise 4: Dictionaries and String Formatting\n",
    "#\n",
    "# Create a dictionary named home_town containing the keys of city, state, and population.\n",
    "# Using the home_town dictionary, assign to a variable named home_town_message a string with this format: “I was born in <city>, <state> - population of <population>”\n",
    "\n",
    "def hometown_info():\n",
    "    home_town = dict()\n",
    "    home_town['city'] = 'singapore'\n",
    "    home_town['state'] =  'singapore'\n",
    "    home_town['population'] =  '6.9 million'\n",
    "    return home_town\n",
    "\n",
    "# Call the function and print the result\n",
    "print('Exercise 4:', hometown_info())\n"
   ]
  },
  {
   "cell_type": "code",
   "execution_count": 6,
   "id": "2f834dbf",
   "metadata": {},
   "outputs": [
    {
     "name": "stdout",
     "output_type": "stream",
     "text": [
      "Exercise 5: ['city = singapore', 'state = singapore', 'population = 6.9 million']\n"
     ]
    }
   ],
   "source": [
    "# Exercise 5: Iterating Over Dictionary Items\n",
    "#\n",
    "# Define an empty list named home_town_items.\n",
    "# Use a for loop to iterate over the key: value pairs in the home_town dictionary and append a string with the following format to home_town_items: \"<key> = <value>\"\n",
    "\n",
    "def list_home_town_items():\n",
    "    home_town = dict()\n",
    "    home_town['city'] = 'singapore'\n",
    "    home_town['state'] =  'singapore'\n",
    "    home_town['population'] =  '6.9 million'\n",
    "    \n",
    "    home_town_items = []\n",
    "    for key, value in home_town.items(): \n",
    "        home_town_item = key+' = '+value\n",
    "        home_town_items.append(home_town_item)\n",
    "    return home_town_items\n",
    "\n",
    "# Call the function and print the result\n",
    "print('Exercise 5:', list_home_town_items())\n"
   ]
  },
  {
   "cell_type": "code",
   "execution_count": 2,
   "id": "e07fd143",
   "metadata": {},
   "outputs": [
    {
     "name": "stdout",
     "output_type": "stream",
     "text": [
      "Exercise 6: ['Ann is awesome!', 'Bob is awesome!', 'Cam is awesome!']\n"
     ]
    }
   ],
   "source": [
    "# Exercise 6: Celebrate Students\n",
    "#\n",
    "# Using the list of students and a list comprehension, assign to a variable named awesome_students a new list containing strings.\n",
    "# For example: [\"Tina is awesome!\", \"Fred is awesome!\", \"Wilma is awesome!\"]\n",
    "\n",
    "def create_awesome_students():\n",
    "    student_list = [\"Ann\", \"Bob\", \"Cam\"]\n",
    "    awesome_students = [student + \" is awesome!\" for student in student_list]\n",
    "    return awesome_students\n",
    "\n",
    "# Call the function and print the result\n",
    "print('Exercise 6:', create_awesome_students())\n"
   ]
  },
  {
   "cell_type": "code",
   "execution_count": 4,
   "id": "c16fedad",
   "metadata": {},
   "outputs": [
    {
     "name": "stdout",
     "output_type": "stream",
     "text": [
      "Exercise 7: ['Taco', 'Sandwich']\n"
     ]
    }
   ],
   "source": [
    "# Exercise 7: Filter Foods\n",
    "#\n",
    "# Assign to a variable named foods_with_an_a the result of list comprehension that filters the foods tuple to only include food strings that contain the letter 'a'.\n",
    "# For example, if foods is a tuple of ('Taco', 'Burrito', 'Sandwich'), foods_with_an_a would be a list equal to ['Taco', 'Sandwich']\n",
    "\n",
    "def filter_foods_with_a():\n",
    "    foods = ('Taco', 'Burrito', 'Sandwich')\n",
    "    foods_a = \n",
    "    return [food for food in foods if 'a' in food]\n",
    "\n",
    "# Call the function and print the result\n",
    "print('Exercise 7:', filter_foods_with_a())\n"
   ]
  },
  {
   "cell_type": "code",
   "execution_count": null,
   "id": "2a2bdfd9",
   "metadata": {},
   "outputs": [],
   "source": []
  }
 ],
 "metadata": {
  "kernelspec": {
   "display_name": "Python 3 (ipykernel)",
   "language": "python",
   "name": "python3"
  },
  "language_info": {
   "codemirror_mode": {
    "name": "ipython",
    "version": 3
   },
   "file_extension": ".py",
   "mimetype": "text/x-python",
   "name": "python",
   "nbconvert_exporter": "python",
   "pygments_lexer": "ipython3",
   "version": "3.10.9"
  }
 },
 "nbformat": 4,
 "nbformat_minor": 5
}
