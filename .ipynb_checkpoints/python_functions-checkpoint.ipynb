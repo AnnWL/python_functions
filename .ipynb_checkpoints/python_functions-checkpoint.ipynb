{
 "cells": [
  {
   "cell_type": "code",
   "execution_count": 1,
   "id": "27a0b64b",
   "metadata": {},
   "outputs": [
    {
     "name": "stdout",
     "output_type": "stream",
     "text": [
      "Exercise 1: 25.0\n"
     ]
    }
   ],
   "source": [
    "# Exercise 1: Calculate Area of a Triangle\n",
    "#\n",
    "# Write a function named `calculate_area_triangle` that takes the base and height of a triangle and returns the area.\n",
    "# The area formula is (base * height) / 2.\n",
    "#\n",
    "# Examples:\n",
    "# calculate_area_triangle(10, 5) should return 25.0.\n",
    "# calculate_area_triangle(7, 3) should return 10.5.\n",
    "#\n",
    "# Define your function and call it below.\n",
    "\n",
    "def calculate_area_triangle(base, height):\n",
    "    return (base * height) / 2\n",
    "\n",
    "print('Exercise 1:', calculate_area_triangle(10, 5))\n"
   ]
  },
  {
   "cell_type": "code",
   "execution_count": 2,
   "id": "b3f3f61f",
   "metadata": {},
   "outputs": [
    {
     "name": "stdout",
     "output_type": "stream",
     "text": [
      "Exercise 2: 100.0\n",
      "Exercise 2: 262.5\n"
     ]
    }
   ],
   "source": [
    "# Exercise 2: Calculate Simple Interest\n",
    "#\n",
    "# Write a function named `simple_interest` that takes principal, rate of interest (as a percentage), and time (years).\n",
    "# Calculate and return the simple interest using the formula (principal * rate * time) / 100.\n",
    "#\n",
    "# Examples:\n",
    "# simple_interest(1000, 5, 2) should return 100.\n",
    "# simple_interest(1500, 3.5, 5) should return 262.5.\n",
    "#\n",
    "# Define your function and call it to see the result.\n",
    "\n",
    "def simple_interest(principal, pct_rate, time): \n",
    "    return (principal * pct_rate * time) / 100\n",
    "\n",
    "print('Exercise 2:', simple_interest(1000, 5, 2))\n",
    "print('Exercise 2:', simple_interest(1500, 3.5, 5))\n"
   ]
  },
  {
   "cell_type": "code",
   "execution_count": 3,
   "id": "32c1b41a",
   "metadata": {},
   "outputs": [
    {
     "name": "stdout",
     "output_type": "stream",
     "text": [
      "Exercise 3: 75.0\n",
      "Exercise 3: 72.0\n"
     ]
    }
   ],
   "source": [
    "# Exercise 3: Apply a Discount\n",
    "#\n",
    "# Write a function named `apply_discount` that takes a product's price and a discount percentage (from 0 to 100).\n",
    "# Return the new price after applying the discount.\n",
    "#\n",
    "# Examples:\n",
    "# apply_discount(100, 25) should return 75.\n",
    "# apply_discount(80, 10) should return 72.\n",
    "#\n",
    "# Define your function and call it to display the discounted price.\n",
    "\n",
    "def apply_discount(price, pct_discount):\n",
    "    return price*(100-pct_discount)/100\n",
    "\n",
    "print('Exercise 3:', apply_discount(100, 25))\n",
    "print('Exercise 3:', apply_discount(80, 10))\n"
   ]
  },
  {
   "cell_type": "code",
   "execution_count": 4,
   "id": "e39e6ccb",
   "metadata": {},
   "outputs": [
    {
     "name": "stdout",
     "output_type": "stream",
     "text": [
      "Exercise 4: Convert 0°C to Fahrenheit: 32.0\n",
      "Exercise 4: Convert 32°F to Celsius: 0.0\n",
      "Enter only either Fahrenheit or Celsius.\n"
     ]
    }
   ],
   "source": [
    "# Exercise 4: Convert Temperature\n",
    "#\n",
    "# Write a function called `convert_temperature` that takes a\n",
    "# temperature and a unit ('C' for Celsius, 'F' for Fahrenheit)\n",
    "# and converts the temperature to the other unit.\n",
    "# The formula for converting Celsius to Fahrenheit is (Celsius * 9/5) + 32.\n",
    "# The formula for converting Fahrenheit to Celsius is (Fahrenheit - 32) * 5/9.\n",
    "#\n",
    "# Examples:\n",
    "# convert_temperature(0, 'C') should return 32.0.\n",
    "# convert_temperature(32, 'F') should return 0.0.\n",
    "#\n",
    "# Define the function and then call it below.\n",
    "\n",
    "def convert_temperature(temperature, unit):\n",
    "    if (unit=='C'): \n",
    "        return (temperature * 9/5) + 32\n",
    "    elif (unit =='F'):\n",
    "        return (temperature - 32) * 5/9\n",
    "    else: \n",
    "        return \"Enter only either Fahrenheit or Celsius.\"\n",
    "\n",
    "print('Exercise 4: Convert 0°C to Fahrenheit:', convert_temperature(0, 'C'))\n",
    "print('Exercise 4: Convert 32°F to Celsius:', convert_temperature(32, 'F'))\n",
    "print(convert_temperature(32, 'D'))\n"
   ]
  },
  {
   "cell_type": "code",
   "execution_count": 5,
   "id": "3c3ed979",
   "metadata": {},
   "outputs": [
    {
     "name": "stdout",
     "output_type": "stream",
     "text": [
      "Exercise 5: 21\n",
      "Exercise 5: 55\n"
     ]
    }
   ],
   "source": [
    "# Exercise 5: Sum to N\n",
    "#\n",
    "# Write a function named `sum_to` that takes a single integer n and returns the sum of all integers from 1 to n.\n",
    "#\n",
    "# Examples:\n",
    "# sum_to(6) should return 21.\n",
    "# sum_to(10) should return 55.\n",
    "#\n",
    "# Define the function and then call it below.\n",
    "\n",
    "def sum_to(num): \n",
    "    sum_val = 0\n",
    "    for i in range(num+1): \n",
    "        sum_val+=i\n",
    "    return sum_val\n",
    "    \n",
    "\n",
    "print('Exercise 5:', sum_to(6))\n",
    "print('Exercise 5:', sum_to(10))\n"
   ]
  },
  {
   "cell_type": "code",
   "execution_count": 6,
   "id": "b5996476",
   "metadata": {},
   "outputs": [
    {
     "name": "stdout",
     "output_type": "stream",
     "text": [
      "Exercise 6: 3\n",
      "Exercise 6: 10\n"
     ]
    }
   ],
   "source": [
    "# Exercise 6: Find the Largest Number\n",
    "#\n",
    "# Write a function named `largest` that takes three integers as arguments and returns the largest of them.\n",
    "#\n",
    "# Examples:\n",
    "# largest(1, 2, 3) should return 3.\n",
    "# largest(10, 4, 2) should return 10.\n",
    "#\n",
    "# Define your function and test it with different inputs.\n",
    "\n",
    "def largest(int1, int2, int3):\n",
    "    return max(int1, int2, int3)\n",
    "\n",
    "def largest(a, b, c):\n",
    "    if a >= b and a >= c:\n",
    "        return a\n",
    "    elif b >= a and b >= c:\n",
    "        return b\n",
    "    else:\n",
    "        return c\n",
    "\n",
    "print('Exercise 6:', largest(1, 2, 3))\n",
    "print('Exercise 6:', largest(10, 4, 2))\n"
   ]
  },
  {
   "cell_type": "code",
   "execution_count": 7,
   "id": "d3065fac",
   "metadata": {},
   "outputs": [
    {
     "name": "stdout",
     "output_type": "stream",
     "text": [
      "Exercise 7: 10.0\n"
     ]
    }
   ],
   "source": [
    "# Exercise 7: Calculate a Tip\n",
    "#\n",
    "# Create a function called `calculate_tip`. It should take the bill amount and the tip percentage (as a whole number).\n",
    "# The function should return the amount of the tip.\n",
    "#\n",
    "# Examples:\n",
    "# calculate_tip(50, 20) should return 10.\n",
    "#\n",
    "# Write your function and test its output below.\n",
    "\n",
    "def calculate_tip(bill, tip_pct): \n",
    "    return bill*tip_pct/100\n",
    "\n",
    "print('Exercise 7:', calculate_tip(50, 20))\n"
   ]
  },
  {
   "cell_type": "code",
   "execution_count": 8,
   "id": "edb456b7",
   "metadata": {},
   "outputs": [
    {
     "name": "stdout",
     "output_type": "stream",
     "text": [
      "Exercise 8: 50\n"
     ]
    }
   ],
   "source": [
    "# Exercise 8: Calculate Product of Numbers\n",
    "#\n",
    "# Write a function named `product` that takes an arbitrary number of numbers, multiplies them, and returns the product.\n",
    "# Review your notes on *args for handling an arbitrary number of arguments.\n",
    "#\n",
    "# Examples:\n",
    "# product(-1, 4) should return -4.\n",
    "# product(2, 5, 5) should return 50.\n",
    "#\n",
    "# Define the function and call it with different sets of numbers to test.\n",
    "\n",
    "def product(*args): \n",
    "    total_val = 1\n",
    "    for arg in args: \n",
    "        total_val*=arg\n",
    "    return total_val\n",
    "\n",
    "print('Exercise 8:', product(2, 5, 5))\n"
   ]
  },
  {
   "cell_type": "code",
   "execution_count": 9,
   "id": "ab30a82e",
   "metadata": {},
   "outputs": [
    {
     "name": "stdout",
     "output_type": "stream",
     "text": [
      "Exercise 9 Result: 5\n"
     ]
    }
   ],
   "source": [
    "# Exercise 9: Basic Calculator\n",
    "#\n",
    "# Create a function named `basic_calculator` that takes three arguments: \n",
    "# two numbers and a string representing an operation ('add', 'subtract', 'multiply', 'divide'). \n",
    "# Perform the provided operation on the two numbers. In operations where the order of numbers is important, \n",
    "# treat the first parameter as the first operand and the second parameter as the second operand.\n",
    "#\n",
    "# Examples:\n",
    "# basic_calculator(10, 5, 'subtract') should return 5.\n",
    "# basic_calculator(10, 5, 'add') should return 15.\n",
    "# basic_calculator(10, 5, 'multiply') should return 50.\n",
    "# basic_calculator(10, 5, 'divide') should return 2.\n",
    "#\n",
    "# Define the function and then call it below.\n",
    "\n",
    "def basic_calculator(num1, num2, operator):\n",
    "    if (operator.lower()=='subtract'):\n",
    "        return num1-num2\n",
    "    elif (operator.lower()=='add'): \n",
    "        return num1+num2\n",
    "    elif (operator.lower()=='multiply'):\n",
    "        return num1*num2\n",
    "    elif (operator.lower()=='divide'):\n",
    "        return num1/num2\n",
    "    else: \n",
    "        return \"enter a valid operator\"\n",
    "\n",
    "print('Exercise 9 Result:', basic_calculator(10, 5, \"subtract\"))\n"
   ]
  },
  {
   "cell_type": "code",
   "execution_count": null,
   "id": "36a3cb4f",
   "metadata": {},
   "outputs": [],
   "source": []
  }
 ],
 "metadata": {
  "kernelspec": {
   "display_name": "Python 3 (ipykernel)",
   "language": "python",
   "name": "python3"
  },
  "language_info": {
   "codemirror_mode": {
    "name": "ipython",
    "version": 3
   },
   "file_extension": ".py",
   "mimetype": "text/x-python",
   "name": "python",
   "nbconvert_exporter": "python",
   "pygments_lexer": "ipython3",
   "version": "3.10.9"
  }
 },
 "nbformat": 4,
 "nbformat_minor": 5
}
